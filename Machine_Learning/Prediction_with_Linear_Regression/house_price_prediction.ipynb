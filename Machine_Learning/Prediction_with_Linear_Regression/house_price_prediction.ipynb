{
 "cells": [
  {
   "cell_type": "code",
   "execution_count": 16,
   "id": "c000a29c",
   "metadata": {},
   "outputs": [
    {
     "name": "stdout",
     "output_type": "stream",
     "text": [
      "Score :  0.6145416837626214\n",
      "Root Mean Squared Error :  225366.5581621066\n"
     ]
    }
   ],
   "source": [
    "import pandas as pd\n",
    "import numpy as np\n",
    "from sklearn.linear_model import LinearRegression\n",
    "from sklearn.model_selection import train_test_split\n",
    "from sklearn import metrics\n",
    "\n",
    "dataset = pd.read_csv(\"prices.csv\") # imports dataset\n",
    "\n",
    "X = dataset[['lot_area', 'living_area', 'num_floors', 'num_bedrooms', 'num_bathrooms', 'waterfront', 'year_built', 'year_renovated']].values # input\n",
    "Y = dataset['price'].values # output\n",
    "\n",
    "X_train, X_test, Y_train, Y_test = train_test_split(X, Y, test_size=0.2) # splitting data to 4 groups\n",
    "\n",
    "reg = LinearRegression()\n",
    "reg.fit(X_train, Y_train)\n",
    "prediction = reg.predict(X_test)\n",
    "\n",
    "print(\"Score : \", reg.score(X_test, Y_test))\n",
    "print(\"Root Mean Squared Error : \", np.sqrt(metrics.mean_squared_error(Y_test, prediction)))"
   ]
  }
 ],
 "metadata": {
  "kernelspec": {
   "display_name": "Python 3",
   "language": "python",
   "name": "python3"
  },
  "language_info": {
   "codemirror_mode": {
    "name": "ipython",
    "version": 3
   },
   "file_extension": ".py",
   "mimetype": "text/x-python",
   "name": "python",
   "nbconvert_exporter": "python",
   "pygments_lexer": "ipython3",
   "version": "3.8.8"
  }
 },
 "nbformat": 4,
 "nbformat_minor": 5
}
